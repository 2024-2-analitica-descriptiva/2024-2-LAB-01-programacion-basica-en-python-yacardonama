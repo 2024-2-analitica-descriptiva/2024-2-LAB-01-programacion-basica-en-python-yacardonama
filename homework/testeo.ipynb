{
 "cells": [
  {
   "cell_type": "code",
   "execution_count": null,
   "metadata": {},
   "outputs": [
    {
     "data": {
      "text/plain": [
       "214"
      ]
     },
     "execution_count": 1,
     "metadata": {},
     "output_type": "execute_result"
    }
   ],
   "source": [
    "#abrir= open(r\"..\\files\\input\\data.csv\",\"r\").readlines() #sirve solo en el libro\n",
    "#abrir= open(\"..\\\\files\\\\input\\\\data.csv\",\"r\").readlines() #sirve solo en el libro\n",
    "#abrir= open(\"files\\\\input\\\\data.csv\",\"r\").readlines() #sirve solo en el módulo\n",
    "#abrir= open(r\"files/input/data.csv\",\"r\").readlines() #sirve solo en el módulo\n",
    "\n",
    "\n",
    "\n",
    "#abrir= open(r\"files/input/data.csv\",\"r\").readlines() #sirve solo en el módulo\n",
    "abrir= open(\"../files/input/data.csv\",\"r\").readlines() #sirve solo en el libro\n",
    "sin_salto=[linea.replace(\"\\n\",\"\") for linea in abrir]\n",
    "separado_tab=[string.split(\"\\t\") for string in sin_salto]\n",
    "doc=separado_tab\n",
    "suma= sum(int(linea[1]) for linea in doc)\n",
    "suma"
   ]
  }
 ],
 "metadata": {
  "kernelspec": {
   "display_name": ".venv",
   "language": "python",
   "name": "python3"
  },
  "language_info": {
   "codemirror_mode": {
    "name": "ipython",
    "version": 3
   },
   "file_extension": ".py",
   "mimetype": "text/x-python",
   "name": "python",
   "nbconvert_exporter": "python",
   "pygments_lexer": "ipython3",
   "version": "3.10.9"
  }
 },
 "nbformat": 4,
 "nbformat_minor": 2
}
